{
 "cells": [
  {
   "attachments": {},
   "cell_type": "markdown",
   "metadata": {},
   "source": [
    "## Gaussian "
   ]
  },
  {
   "cell_type": "code",
   "execution_count": null,
   "metadata": {},
   "outputs": [],
   "source": [
    "import numpy as np\n",
    "from tensorflow.keras.preprocessing.image import ImageDataGenerator\n",
    "\n",
    "# Define the custom preprocessing function to add Gaussian noise\n",
    "def add_gaussian_noise(image):\n",
    "    mean = 0\n",
    "    var = 0.01\n",
    "    sigma = var ** 0.5\n",
    "    noisy_image = image + np.random.normal(mean, sigma, image.shape)\n",
    "    noisy_image = np.clip(noisy_image, 0, 1)\n",
    "    return noisy_image\n",
    "\n",
    "# Define the image data generator with Gaussian noise augmentation\n",
    "datagen = ImageDataGenerator(\n",
    "    rescale=1./255,  # normalize pixel values to [0, 1]\n",
    "    width_shift_range=0.1,  # randomly shift images horizontally (10% of total width)\n",
    "    height_shift_range=0.1,  # randomly shift images vertically (10% of total height)\n",
    "    rotation_range=20,  # randomly rotate images up to 20 degrees\n",
    "    shear_range=0.2,  # randomly apply shearing transformation\n",
    "    zoom_range=0.2,  # randomly zoom in on images\n",
    "    horizontal_flip=True,  # randomly flip images horizontally\n",
    "    vertical_flip=False,  # don't flip images vertically\n",
    "    # Add Gaussian noise to the images\n",
    "    preprocessing_function=add_gaussian_noise\n",
    ")\n",
    "\n",
    "# Load your train and test sets\n",
    "x_train = ...\n",
    "y_train = ...\n",
    "x_test = ...\n",
    "y_test = ...\n",
    "\n",
    "# Fit the data generator on the training set\n",
    "datagen.fit(x_train)\n",
    "\n",
    "# Generate noisy images for the train and test sets\n",
    "x_train_noisy = datagen.flow(x_train, batch_size=len(x_train), shuffle=False).next()\n",
    "x_test_noisy = datagen.flow(x_test, batch_size=len(x_test), shuffle=False).next()\n"
   ]
  },
  {
   "attachments": {},
   "cell_type": "markdown",
   "metadata": {},
   "source": [
    "## Poission Noise"
   ]
  },
  {
   "attachments": {},
   "cell_type": "markdown",
   "metadata": {},
   "source": [
    "## Quantization Noise"
   ]
  },
  {
   "cell_type": "markdown",
   "metadata": {},
   "source": []
  }
 ],
 "metadata": {
  "language_info": {
   "name": "python"
  },
  "orig_nbformat": 4
 },
 "nbformat": 4,
 "nbformat_minor": 2
}
